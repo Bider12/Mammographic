{
  "nbformat": 4,
  "nbformat_minor": 0,
  "metadata": {
    "colab": {
      "provenance": [],
      "collapsed_sections": []
    },
    "kernelspec": {
      "name": "python3",
      "display_name": "Python 3"
    },
    "language_info": {
      "name": "python"
    }
  },
  "cells": [
    {
      "cell_type": "code",
      "source": [
        "from google.colab import files\n",
        "\n",
        "uploaded = files.upload()\n",
        "\n",
        "for fn in uploaded.keys():\n",
        "  print('User uploaded file \"{name}\" with length {length} bytes'.format(\n",
        "      name=fn, length=len(uploaded[fn])))"
      ],
      "metadata": {
        "colab": {
          "base_uri": "https://localhost:8080/",
          "height": 90
        },
        "id": "kKnc7mU_tR52",
        "outputId": "bca0696c-58ae-44fe-c9fe-2d1522708528"
      },
      "execution_count": 1,
      "outputs": [
        {
          "output_type": "display_data",
          "data": {
            "text/plain": [
              "<IPython.core.display.HTML object>"
            ],
            "text/html": [
              "\n",
              "     <input type=\"file\" id=\"files-cbc73c3e-3df9-4e84-8fd4-900c268b028d\" name=\"files[]\" multiple disabled\n",
              "        style=\"border:none\" />\n",
              "     <output id=\"result-cbc73c3e-3df9-4e84-8fd4-900c268b028d\">\n",
              "      Upload widget is only available when the cell has been executed in the\n",
              "      current browser session. Please rerun this cell to enable.\n",
              "      </output>\n",
              "      <script>// Copyright 2017 Google LLC\n",
              "//\n",
              "// Licensed under the Apache License, Version 2.0 (the \"License\");\n",
              "// you may not use this file except in compliance with the License.\n",
              "// You may obtain a copy of the License at\n",
              "//\n",
              "//      http://www.apache.org/licenses/LICENSE-2.0\n",
              "//\n",
              "// Unless required by applicable law or agreed to in writing, software\n",
              "// distributed under the License is distributed on an \"AS IS\" BASIS,\n",
              "// WITHOUT WARRANTIES OR CONDITIONS OF ANY KIND, either express or implied.\n",
              "// See the License for the specific language governing permissions and\n",
              "// limitations under the License.\n",
              "\n",
              "/**\n",
              " * @fileoverview Helpers for google.colab Python module.\n",
              " */\n",
              "(function(scope) {\n",
              "function span(text, styleAttributes = {}) {\n",
              "  const element = document.createElement('span');\n",
              "  element.textContent = text;\n",
              "  for (const key of Object.keys(styleAttributes)) {\n",
              "    element.style[key] = styleAttributes[key];\n",
              "  }\n",
              "  return element;\n",
              "}\n",
              "\n",
              "// Max number of bytes which will be uploaded at a time.\n",
              "const MAX_PAYLOAD_SIZE = 100 * 1024;\n",
              "\n",
              "function _uploadFiles(inputId, outputId) {\n",
              "  const steps = uploadFilesStep(inputId, outputId);\n",
              "  const outputElement = document.getElementById(outputId);\n",
              "  // Cache steps on the outputElement to make it available for the next call\n",
              "  // to uploadFilesContinue from Python.\n",
              "  outputElement.steps = steps;\n",
              "\n",
              "  return _uploadFilesContinue(outputId);\n",
              "}\n",
              "\n",
              "// This is roughly an async generator (not supported in the browser yet),\n",
              "// where there are multiple asynchronous steps and the Python side is going\n",
              "// to poll for completion of each step.\n",
              "// This uses a Promise to block the python side on completion of each step,\n",
              "// then passes the result of the previous step as the input to the next step.\n",
              "function _uploadFilesContinue(outputId) {\n",
              "  const outputElement = document.getElementById(outputId);\n",
              "  const steps = outputElement.steps;\n",
              "\n",
              "  const next = steps.next(outputElement.lastPromiseValue);\n",
              "  return Promise.resolve(next.value.promise).then((value) => {\n",
              "    // Cache the last promise value to make it available to the next\n",
              "    // step of the generator.\n",
              "    outputElement.lastPromiseValue = value;\n",
              "    return next.value.response;\n",
              "  });\n",
              "}\n",
              "\n",
              "/**\n",
              " * Generator function which is called between each async step of the upload\n",
              " * process.\n",
              " * @param {string} inputId Element ID of the input file picker element.\n",
              " * @param {string} outputId Element ID of the output display.\n",
              " * @return {!Iterable<!Object>} Iterable of next steps.\n",
              " */\n",
              "function* uploadFilesStep(inputId, outputId) {\n",
              "  const inputElement = document.getElementById(inputId);\n",
              "  inputElement.disabled = false;\n",
              "\n",
              "  const outputElement = document.getElementById(outputId);\n",
              "  outputElement.innerHTML = '';\n",
              "\n",
              "  const pickedPromise = new Promise((resolve) => {\n",
              "    inputElement.addEventListener('change', (e) => {\n",
              "      resolve(e.target.files);\n",
              "    });\n",
              "  });\n",
              "\n",
              "  const cancel = document.createElement('button');\n",
              "  inputElement.parentElement.appendChild(cancel);\n",
              "  cancel.textContent = 'Cancel upload';\n",
              "  const cancelPromise = new Promise((resolve) => {\n",
              "    cancel.onclick = () => {\n",
              "      resolve(null);\n",
              "    };\n",
              "  });\n",
              "\n",
              "  // Wait for the user to pick the files.\n",
              "  const files = yield {\n",
              "    promise: Promise.race([pickedPromise, cancelPromise]),\n",
              "    response: {\n",
              "      action: 'starting',\n",
              "    }\n",
              "  };\n",
              "\n",
              "  cancel.remove();\n",
              "\n",
              "  // Disable the input element since further picks are not allowed.\n",
              "  inputElement.disabled = true;\n",
              "\n",
              "  if (!files) {\n",
              "    return {\n",
              "      response: {\n",
              "        action: 'complete',\n",
              "      }\n",
              "    };\n",
              "  }\n",
              "\n",
              "  for (const file of files) {\n",
              "    const li = document.createElement('li');\n",
              "    li.append(span(file.name, {fontWeight: 'bold'}));\n",
              "    li.append(span(\n",
              "        `(${file.type || 'n/a'}) - ${file.size} bytes, ` +\n",
              "        `last modified: ${\n",
              "            file.lastModifiedDate ? file.lastModifiedDate.toLocaleDateString() :\n",
              "                                    'n/a'} - `));\n",
              "    const percent = span('0% done');\n",
              "    li.appendChild(percent);\n",
              "\n",
              "    outputElement.appendChild(li);\n",
              "\n",
              "    const fileDataPromise = new Promise((resolve) => {\n",
              "      const reader = new FileReader();\n",
              "      reader.onload = (e) => {\n",
              "        resolve(e.target.result);\n",
              "      };\n",
              "      reader.readAsArrayBuffer(file);\n",
              "    });\n",
              "    // Wait for the data to be ready.\n",
              "    let fileData = yield {\n",
              "      promise: fileDataPromise,\n",
              "      response: {\n",
              "        action: 'continue',\n",
              "      }\n",
              "    };\n",
              "\n",
              "    // Use a chunked sending to avoid message size limits. See b/62115660.\n",
              "    let position = 0;\n",
              "    do {\n",
              "      const length = Math.min(fileData.byteLength - position, MAX_PAYLOAD_SIZE);\n",
              "      const chunk = new Uint8Array(fileData, position, length);\n",
              "      position += length;\n",
              "\n",
              "      const base64 = btoa(String.fromCharCode.apply(null, chunk));\n",
              "      yield {\n",
              "        response: {\n",
              "          action: 'append',\n",
              "          file: file.name,\n",
              "          data: base64,\n",
              "        },\n",
              "      };\n",
              "\n",
              "      let percentDone = fileData.byteLength === 0 ?\n",
              "          100 :\n",
              "          Math.round((position / fileData.byteLength) * 100);\n",
              "      percent.textContent = `${percentDone}% done`;\n",
              "\n",
              "    } while (position < fileData.byteLength);\n",
              "  }\n",
              "\n",
              "  // All done.\n",
              "  yield {\n",
              "    response: {\n",
              "      action: 'complete',\n",
              "    }\n",
              "  };\n",
              "}\n",
              "\n",
              "scope.google = scope.google || {};\n",
              "scope.google.colab = scope.google.colab || {};\n",
              "scope.google.colab._files = {\n",
              "  _uploadFiles,\n",
              "  _uploadFilesContinue,\n",
              "};\n",
              "})(self);\n",
              "</script> "
            ]
          },
          "metadata": {}
        },
        {
          "output_type": "stream",
          "name": "stdout",
          "text": [
            "Saving kaggle.json to kaggle.json\n",
            "User uploaded file \"kaggle.json\" with length 71 bytes\n"
          ]
        }
      ]
    },
    {
      "cell_type": "code",
      "source": [
        "!mkdir -p ~/.kaggle/ && mv kaggle.json ~/.kaggle/ && chmod 600 ~/.kaggle/kaggle.json"
      ],
      "metadata": {
        "id": "aBcLa1LUtguM"
      },
      "execution_count": 2,
      "outputs": []
    },
    {
      "cell_type": "code",
      "source": [
        "!kaggle datasets download -d overratedgman/mammographic-mass-data-set"
      ],
      "metadata": {
        "colab": {
          "base_uri": "https://localhost:8080/"
        },
        "id": "k3SMRL1RtQFT",
        "outputId": "cb7fdbfb-ace0-4319-9e17-91a1d3ede443"
      },
      "execution_count": 3,
      "outputs": [
        {
          "output_type": "stream",
          "name": "stdout",
          "text": [
            "Downloading mammographic-mass-data-set.zip to /content\n",
            "\r  0% 0.00/2.67k [00:00<?, ?B/s]\n",
            "\r100% 2.67k/2.67k [00:00<00:00, 1.42MB/s]\n"
          ]
        }
      ]
    },
    {
      "cell_type": "code",
      "source": [
        "!unzip mammographic-mass-data-set.zip"
      ],
      "metadata": {
        "colab": {
          "base_uri": "https://localhost:8080/"
        },
        "id": "IF8SB3gstkEC",
        "outputId": "d9e39fe3-ddfb-4dfc-b990-2c005eac879d"
      },
      "execution_count": 4,
      "outputs": [
        {
          "output_type": "stream",
          "name": "stdout",
          "text": [
            "Archive:  mammographic-mass-data-set.zip\n",
            "  inflating: Cleaned_data.csv        \n"
          ]
        }
      ]
    },
    {
      "cell_type": "code",
      "metadata": {
        "id": "MwLCkODVsxZ-"
      },
      "source": [
        "import tensorflow\n",
        "from tensorflow import keras\n",
        "from keras import datasets\n",
        "import numpy as np\n",
        "import pandas as pd\n",
        "from matplotlib import pyplot as plt\n",
        "import seaborn as sns\n",
        "from sklearn.neural_network import MLPRegressor, MLPClassifier\n",
        "from sklearn.model_selection import train_test_split, cross_val_score\n",
        "from sklearn.preprocessing import StandardScaler\n",
        "from sklearn.metrics import r2_score, accuracy_score, classification_report, f1_score, confusion_matrix\n",
        "from tensorflow.keras.models import Sequential\n",
        "from tensorflow.keras.layers import Dense, Dropout\n",
        "from keras.callbacks import EarlyStopping\n",
        "from sklearn import neighbors\n",
        "from sklearn.ensemble import RandomForestClassifier\n",
        "from sklearn.model_selection import cross_val_score\n",
        "from sklearn.ensemble import VotingClassifier\n",
        "from sklearn.linear_model import LogisticRegression\n",
        "from sklearn.tree import DecisionTreeClassifier\n",
        "from sklearn.svm import SVC\n"
      ],
      "execution_count": 5,
      "outputs": []
    },
    {
      "cell_type": "code",
      "metadata": {
        "id": "JGqIxs-9s_wm"
      },
      "source": [
        "#Load the dataset\n",
        "data = pd.read_csv('Cleaned_data.csv')"
      ],
      "execution_count": 6,
      "outputs": []
    },
    {
      "cell_type": "code",
      "source": [
        "print(data.shape)\n",
        "print(data.info())\n",
        "print(data.describe())"
      ],
      "metadata": {
        "colab": {
          "base_uri": "https://localhost:8080/"
        },
        "id": "WB7VGVNehtpl",
        "outputId": "b370e034-3ebe-4ed3-a84c-51f0916928c3"
      },
      "execution_count": 7,
      "outputs": [
        {
          "output_type": "stream",
          "name": "stdout",
          "text": [
            "(830, 6)\n",
            "<class 'pandas.core.frame.DataFrame'>\n",
            "RangeIndex: 830 entries, 0 to 829\n",
            "Data columns (total 6 columns):\n",
            " #   Column    Non-Null Count  Dtype\n",
            "---  ------    --------------  -----\n",
            " 0   BI-RADS   830 non-null    int64\n",
            " 1   Age       830 non-null    int64\n",
            " 2   Shape     830 non-null    int64\n",
            " 3   Margin    830 non-null    int64\n",
            " 4   Density   830 non-null    int64\n",
            " 5   Severity  830 non-null    int64\n",
            "dtypes: int64(6)\n",
            "memory usage: 39.0 KB\n",
            "None\n",
            "          BI-RADS         Age       Shape      Margin     Density    Severity\n",
            "count  830.000000  830.000000  830.000000  830.000000  830.000000  830.000000\n",
            "mean     4.393976   55.781928    2.781928    2.813253    2.915663    0.485542\n",
            "std      1.888371   14.671782    1.242361    1.567175    0.350936    0.500092\n",
            "min      0.000000   18.000000    1.000000    1.000000    1.000000    0.000000\n",
            "25%      4.000000   46.000000    2.000000    1.000000    3.000000    0.000000\n",
            "50%      4.000000   57.000000    3.000000    3.000000    3.000000    0.000000\n",
            "75%      5.000000   66.000000    4.000000    4.000000    3.000000    1.000000\n",
            "max     55.000000   96.000000    4.000000    5.000000    4.000000    1.000000\n"
          ]
        }
      ]
    },
    {
      "cell_type": "code",
      "metadata": {
        "colab": {
          "base_uri": "https://localhost:8080/"
        },
        "id": "UYRLzV5NHBo7",
        "outputId": "76165be7-e3fb-40e6-e613-46b1c6ff2bb6"
      },
      "source": [
        "#Check missing values\n",
        "data.isnull().sum()"
      ],
      "execution_count": 8,
      "outputs": [
        {
          "output_type": "execute_result",
          "data": {
            "text/plain": [
              "BI-RADS     0\n",
              "Age         0\n",
              "Shape       0\n",
              "Margin      0\n",
              "Density     0\n",
              "Severity    0\n",
              "dtype: int64"
            ]
          },
          "metadata": {},
          "execution_count": 8
        }
      ]
    },
    {
      "cell_type": "code",
      "source": [
        "col_list = ['BI-RADS', 'Age', 'Shape', 'Margin', 'Density', 'Severity']"
      ],
      "metadata": {
        "id": "DBhY25ELWJ8H"
      },
      "execution_count": 10,
      "outputs": []
    },
    {
      "cell_type": "code",
      "source": [
        "#Look into values of columns\n",
        "for i in col_list:\n",
        "  print(data[i].value_counts(), '\\n')"
      ],
      "metadata": {
        "colab": {
          "base_uri": "https://localhost:8080/"
        },
        "id": "ud5p4x3Mwcp4",
        "outputId": "f99a2a63-646b-49b5-aea6-d2b9d9f73962"
      },
      "execution_count": 11,
      "outputs": [
        {
          "output_type": "stream",
          "name": "stdout",
          "text": [
            "4     468\n",
            "5     316\n",
            "3      24\n",
            "6       9\n",
            "2       7\n",
            "0       5\n",
            "55      1\n",
            "Name: BI-RADS, dtype: int64 \n",
            "\n",
            "67    30\n",
            "59    29\n",
            "66    28\n",
            "57    27\n",
            "46    25\n",
            "      ..\n",
            "88     1\n",
            "93     1\n",
            "26     1\n",
            "18     1\n",
            "20     1\n",
            "Name: Age, Length: 72, dtype: int64 \n",
            "\n",
            "4    379\n",
            "1    190\n",
            "2    180\n",
            "3     81\n",
            "Name: Shape, dtype: int64 \n",
            "\n",
            "1    320\n",
            "4    254\n",
            "5    127\n",
            "3    106\n",
            "2     23\n",
            "Name: Margin, dtype: int64 \n",
            "\n",
            "3    755\n",
            "2     56\n",
            "1     11\n",
            "4      8\n",
            "Name: Density, dtype: int64 \n",
            "\n",
            "0    427\n",
            "1    403\n",
            "Name: Severity, dtype: int64 \n",
            "\n"
          ]
        }
      ]
    },
    {
      "cell_type": "code",
      "source": [
        "#BI-RADS have values 55 and 6 which are not in BI-RADS scale[1-5]"
      ],
      "metadata": {
        "id": "UHq1OyjJg-wX"
      },
      "execution_count": 12,
      "outputs": []
    },
    {
      "cell_type": "code",
      "source": [
        "idx = data[data['BI-RADS'] == 55].index\n",
        "print(idx)"
      ],
      "metadata": {
        "colab": {
          "base_uri": "https://localhost:8080/"
        },
        "id": "s0KoSI0-xWIG",
        "outputId": "3d959609-a922-4cc3-e3a9-bf475ed5dd17"
      },
      "execution_count": 13,
      "outputs": [
        {
          "output_type": "stream",
          "name": "stdout",
          "text": [
            "Int64Index([257], dtype='int64')\n"
          ]
        }
      ]
    },
    {
      "cell_type": "code",
      "source": [
        "idx = data[data['BI-RADS'] == 6].index\n",
        "print(idx)"
      ],
      "metadata": {
        "colab": {
          "base_uri": "https://localhost:8080/"
        },
        "id": "UFd_AMS0NZ9J",
        "outputId": "d36583b8-b96f-4b19-d276-f72072ba20c5"
      },
      "execution_count": 14,
      "outputs": [
        {
          "output_type": "stream",
          "name": "stdout",
          "text": [
            "Int64Index([441, 545, 569, 584, 594, 595, 657, 703, 759], dtype='int64')\n"
          ]
        }
      ]
    },
    {
      "cell_type": "code",
      "source": [
        "#Delete wrong records\n",
        "data = data.drop([257, 441, 545, 569, 584, 594, 595, 657, 703, 759],axis=0)\n",
        "data = data.reset_index(drop=True)"
      ],
      "metadata": {
        "id": "cepInK08ytNB"
      },
      "execution_count": 15,
      "outputs": []
    },
    {
      "cell_type": "code",
      "source": [
        "data.shape"
      ],
      "metadata": {
        "colab": {
          "base_uri": "https://localhost:8080/"
        },
        "id": "gqCqjOH3yB8b",
        "outputId": "2d53dbd1-c1c8-4b61-f760-7b8af83ef692"
      },
      "execution_count": 16,
      "outputs": [
        {
          "output_type": "execute_result",
          "data": {
            "text/plain": [
              "(820, 6)"
            ]
          },
          "metadata": {},
          "execution_count": 16
        }
      ]
    },
    {
      "cell_type": "code",
      "source": [
        "#Check distribution of BI-RADS\n",
        "plt.plot(data['BI-RADS'])"
      ],
      "metadata": {
        "colab": {
          "base_uri": "https://localhost:8080/",
          "height": 282
        },
        "id": "f7SOYXndyMor",
        "outputId": "455e7ed0-136a-436f-d730-92722e136035"
      },
      "execution_count": 17,
      "outputs": [
        {
          "output_type": "execute_result",
          "data": {
            "text/plain": [
              "[<matplotlib.lines.Line2D at 0x7fa176c8c050>]"
            ]
          },
          "metadata": {},
          "execution_count": 17
        },
        {
          "output_type": "display_data",
          "data": {
            "text/plain": [
              "<Figure size 432x288 with 1 Axes>"
            ],
            "image/png": "[encoded data removed]"
          },
          "metadata": {
            "needs_background": "light"
          }
        }
      ]
    },
    {
      "cell_type": "code",
      "source": [
        "#Plot frequency histogram of age\n",
        "fig, axes = plt.subplots(1, 1, figsize=(10, 8))\n",
        "sns.histplot(x=\"Age\", kde=True, data=data, ax=axes, bins=40);\n",
        "axes.set(xlabel=\"Age\");\n",
        "axes.xaxis.label.set_size(18)\n",
        "axes.yaxis.label.set_size(18)\n",
        "axes.tick_params('y', labelsize = 14);\n",
        "axes.tick_params('x', labelsize = 14);"
      ],
      "metadata": {
        "colab": {
          "base_uri": "https://localhost:8080/",
          "height": 511
        },
        "id": "rZNHWukwuaUa",
        "outputId": "4fad0e32-975a-420b-8f6a-79b3762da7ae"
      },
      "execution_count": 18,
      "outputs": [
        {
          "output_type": "display_data",
          "data": {
            "text/plain": [
              "<Figure size 720x576 with 1 Axes>"
            ],
            "image/png": "[encoded data removed]"
          },
          "metadata": {
            "needs_background": "light"
          }
        }
      ]
    },
    {
      "cell_type": "code",
      "source": [
        "#'Shape' and 'Margin' are categorical so I have to convert them to indicator variables\n",
        "categorical_cols = ['Shape', 'Margin']\n",
        "data = pd.get_dummies(data, columns = categorical_cols, drop_first=True)"
      ],
      "metadata": {
        "id": "chX-jDO2-J2E"
      },
      "execution_count": 19,
      "outputs": []
    },
    {
      "cell_type": "code",
      "source": [
        "print(data.shape)\n",
        "print(data.info())\n",
        "print(data.describe())"
      ],
      "metadata": {
        "colab": {
          "base_uri": "https://localhost:8080/"
        },
        "id": "rjtModTP-Xfl",
        "outputId": "afec8194-81f9-4cc2-a667-f663abbc8924"
      },
      "execution_count": 20,
      "outputs": [
        {
          "output_type": "stream",
          "name": "stdout",
          "text": [
            "(820, 11)\n",
            "<class 'pandas.core.frame.DataFrame'>\n",
            "RangeIndex: 820 entries, 0 to 819\n",
            "Data columns (total 11 columns):\n",
            " #   Column    Non-Null Count  Dtype\n",
            "---  ------    --------------  -----\n",
            " 0   BI-RADS   820 non-null    int64\n",
            " 1   Age       820 non-null    int64\n",
            " 2   Density   820 non-null    int64\n",
            " 3   Severity  820 non-null    int64\n",
            " 4   Shape_2   820 non-null    uint8\n",
            " 5   Shape_3   820 non-null    uint8\n",
            " 6   Shape_4   820 non-null    uint8\n",
            " 7   Margin_2  820 non-null    uint8\n",
            " 8   Margin_3  820 non-null    uint8\n",
            " 9   Margin_4  820 non-null    uint8\n",
            " 10  Margin_5  820 non-null    uint8\n",
            "dtypes: int64(4), uint8(7)\n",
            "memory usage: 31.4 KB\n",
            "None\n",
            "          BI-RADS         Age     Density    Severity     Shape_2     Shape_3  \\\n",
            "count  820.000000  820.000000  820.000000  820.000000  820.000000  820.000000   \n",
            "mean     4.314634   55.739024    2.915854    0.481707    0.218293    0.096341   \n",
            "std      0.669248   14.684062    0.351508    0.499970    0.413339    0.295239   \n",
            "min      0.000000   18.000000    1.000000    0.000000    0.000000    0.000000   \n",
            "25%      4.000000   45.750000    3.000000    0.000000    0.000000    0.000000   \n",
            "50%      4.000000   57.000000    3.000000    0.000000    0.000000    0.000000   \n",
            "75%      5.000000   66.000000    3.000000    1.000000    0.000000    0.000000   \n",
            "max      5.000000   96.000000    4.000000    1.000000    1.000000    1.000000   \n",
            "\n",
            "          Shape_4    Margin_2    Margin_3    Margin_4    Margin_5  \n",
            "count  820.000000  820.000000  820.000000  820.000000  820.000000  \n",
            "mean     0.454878    0.028049    0.124390    0.307317    0.152439  \n",
            "std      0.498264    0.165213    0.330228    0.461664    0.359665  \n",
            "min      0.000000    0.000000    0.000000    0.000000    0.000000  \n",
            "25%      0.000000    0.000000    0.000000    0.000000    0.000000  \n",
            "50%      0.000000    0.000000    0.000000    0.000000    0.000000  \n",
            "75%      1.000000    0.000000    0.000000    1.000000    0.000000  \n",
            "max      1.000000    1.000000    1.000000    1.000000    1.000000  \n"
          ]
        }
      ]
    },
    {
      "cell_type": "code",
      "metadata": {
        "colab": {
          "base_uri": "https://localhost:8080/",
          "height": 740
        },
        "id": "QN19MXTI8WX9",
        "outputId": "4dd24b0c-2fb7-46a3-b386-d1f4fa41d5fb"
      },
      "source": [
        "#Correlation between columns\n",
        "sns.heatmap(data.corr(),annot=True,cmap='mako',linewidths=0.2)\n",
        "fig=plt.gcf()\n",
        "fig.set_size_inches(20,12)\n",
        "plt.show()"
      ],
      "execution_count": 21,
      "outputs": [
        {
          "output_type": "display_data",
          "data": {
            "text/plain": [
              "<Figure size 1440x864 with 2 Axes>"
            ],
            "image/png": "[encoded data removed]"
          },
          "metadata": {
            "needs_background": "light"
          }
        }
      ]
    },
    {
      "cell_type": "code",
      "source": [
        "X = data.drop(columns=['Severity'],axis=1)\n",
        "y = data['Severity']"
      ],
      "metadata": {
        "id": "_L3MFMablEMk"
      },
      "execution_count": 22,
      "outputs": []
    },
    {
      "cell_type": "code",
      "metadata": {
        "id": "dVmLRRel8adM"
      },
      "source": [
        "#Splitting dataset\n",
        "X_train, x_test, y_train, y_test = train_test_split(X, y, random_state=42, test_size=0.2)"
      ],
      "execution_count": 23,
      "outputs": []
    },
    {
      "cell_type": "code",
      "metadata": {
        "id": "Omq5X1vm1qet"
      },
      "source": [
        "#Using StandardScaler\n",
        "scaler = StandardScaler()\n",
        "scaler.fit(X_train)\n",
        "X_train = scaler.transform(X_train)  \n",
        "x_test = scaler.transform(x_test)"
      ],
      "execution_count": 24,
      "outputs": []
    },
    {
      "cell_type": "code",
      "source": [
        "print(X_train.shape, y_train.shape)\n",
        "print(x_test.shape, y_test.shape)"
      ],
      "metadata": {
        "colab": {
          "base_uri": "https://localhost:8080/"
        },
        "id": "NwsXYXkACHIo",
        "outputId": "81a2a226-4ab1-42f4-9802-98b47a8cce9f"
      },
      "execution_count": 25,
      "outputs": [
        {
          "output_type": "stream",
          "name": "stdout",
          "text": [
            "(656, 10) (656,)\n",
            "(164, 10) (164,)\n"
          ]
        }
      ]
    },
    {
      "cell_type": "code",
      "source": [
        "#Create a model\n",
        "model = Sequential()\n",
        "\n",
        "model.add(Dense(64, activation='relu', input_shape=(X_train.shape[1],)))\n",
        "model.add(Dropout(0.2))\n",
        "model.add(Dense(128, activation='relu'))\n",
        "model.add(Dropout(0.3))\n",
        "model.add(Dense(64, activation='relu'))\n",
        "model.add(Dropout(0.2))\n",
        "model.add(Dense(32, activation='relu'))\n",
        "model.add(Dropout(0.4))\n",
        "model.add(Dense(32, activation='relu'))\n",
        "model.add(Dropout(0.3))\n",
        "model.add(Dense(1, activation='sigmoid'))\n",
        "\n",
        "model.compile(optimizer='adam', loss='binary_crossentropy', metrics=['accuracy'])"
      ],
      "metadata": {
        "id": "umNXOCrSC4UC"
      },
      "execution_count": 26,
      "outputs": []
    },
    {
      "cell_type": "code",
      "source": [
        "model.summary()"
      ],
      "metadata": {
        "colab": {
          "base_uri": "https://localhost:8080/"
        },
        "id": "ZUbS5hFrPbz6",
        "outputId": "8aa24de2-dc1f-45cf-e95f-ea73628c53c3"
      },
      "execution_count": 27,
      "outputs": [
        {
          "output_type": "stream",
          "name": "stdout",
          "text": [
            "Model: \"sequential\"\n",
            "_________________________________________________________________\n",
            " Layer (type)                Output Shape              Param #   \n",
            "=================================================================\n",
            " dense (Dense)               (None, 64)                704       \n",
            "                                                                 \n",
            " dropout (Dropout)           (None, 64)                0         \n",
            "                                                                 \n",
            " dense_1 (Dense)             (None, 128)               8320      \n",
            "                                                                 \n",
            " dropout_1 (Dropout)         (None, 128)               0         \n",
            "                                                                 \n",
            " dense_2 (Dense)             (None, 64)                8256      \n",
            "                                                                 \n",
            " dropout_2 (Dropout)         (None, 64)                0         \n",
            "                                                                 \n",
            " dense_3 (Dense)             (None, 32)                2080      \n",
            "                                                                 \n",
            " dropout_3 (Dropout)         (None, 32)                0         \n",
            "                                                                 \n",
            " dense_4 (Dense)             (None, 32)                1056      \n",
            "                                                                 \n",
            " dropout_4 (Dropout)         (None, 32)                0         \n",
            "                                                                 \n",
            " dense_5 (Dense)             (None, 1)                 33        \n",
            "                                                                 \n",
            "=================================================================\n",
            "Total params: 20,449\n",
            "Trainable params: 20,449\n",
            "Non-trainable params: 0\n",
            "_________________________________________________________________\n"
          ]
        }
      ]
    },
    {
      "cell_type": "code",
      "source": [
        "history = model.fit(X_train, y_train, \n",
        "                    batch_size=10, epochs=30, verbose=True, \n",
        "                    validation_data=(x_test, y_test))"
      ],
      "metadata": {
        "colab": {
          "base_uri": "https://localhost:8080/"
        },
        "id": "yt_9RLn3CHLD",
        "outputId": "3a803abb-0df1-4abd-c373-a1f31f5ad9d4"
      },
      "execution_count": 28,
      "outputs": [
        {
          "output_type": "stream",
          "name": "stdout",
          "text": [
            "Epoch 1/30\n",
            "66/66 [==============================] - 1s 6ms/step - loss: 0.6458 - accuracy: 0.6616 - val_loss: 0.4914 - val_accuracy: 0.8293\n",
            "Epoch 2/30\n",
            "66/66 [==============================] - 0s 4ms/step - loss: 0.4959 - accuracy: 0.7881 - val_loss: 0.4218 - val_accuracy: 0.8232\n",
            "Epoch 3/30\n",
            "66/66 [==============================] - 0s 4ms/step - loss: 0.4562 - accuracy: 0.8018 - val_loss: 0.4264 - val_accuracy: 0.8293\n",
            "Epoch 4/30\n",
            "66/66 [==============================] - 0s 3ms/step - loss: 0.4441 - accuracy: 0.8095 - val_loss: 0.4195 - val_accuracy: 0.8232\n",
            "Epoch 5/30\n",
            "66/66 [==============================] - 0s 4ms/step - loss: 0.4115 - accuracy: 0.8308 - val_loss: 0.4287 - val_accuracy: 0.8171\n",
            "Epoch 6/30\n",
            "66/66 [==============================] - 0s 4ms/step - loss: 0.4266 - accuracy: 0.8232 - val_loss: 0.4380 - val_accuracy: 0.8354\n",
            "Epoch 7/30\n",
            "66/66 [==============================] - 0s 4ms/step - loss: 0.4190 - accuracy: 0.8430 - val_loss: 0.4373 - val_accuracy: 0.8293\n",
            "Epoch 8/30\n",
            "66/66 [==============================] - 0s 3ms/step - loss: 0.4214 - accuracy: 0.8308 - val_loss: 0.4337 - val_accuracy: 0.8293\n",
            "Epoch 9/30\n",
            "66/66 [==============================] - 0s 3ms/step - loss: 0.4119 - accuracy: 0.8338 - val_loss: 0.4456 - val_accuracy: 0.8293\n",
            "Epoch 10/30\n",
            "66/66 [==============================] - 0s 4ms/step - loss: 0.3693 - accuracy: 0.8293 - val_loss: 0.4702 - val_accuracy: 0.8171\n",
            "Epoch 11/30\n",
            "66/66 [==============================] - 0s 4ms/step - loss: 0.4018 - accuracy: 0.8338 - val_loss: 0.4324 - val_accuracy: 0.8232\n",
            "Epoch 12/30\n",
            "66/66 [==============================] - 0s 4ms/step - loss: 0.4085 - accuracy: 0.8384 - val_loss: 0.4505 - val_accuracy: 0.8293\n",
            "Epoch 13/30\n",
            "66/66 [==============================] - 0s 3ms/step - loss: 0.3806 - accuracy: 0.8445 - val_loss: 0.4443 - val_accuracy: 0.8171\n",
            "Epoch 14/30\n",
            "66/66 [==============================] - 0s 3ms/step - loss: 0.4034 - accuracy: 0.8430 - val_loss: 0.4392 - val_accuracy: 0.8171\n",
            "Epoch 15/30\n",
            "66/66 [==============================] - 0s 4ms/step - loss: 0.3776 - accuracy: 0.8460 - val_loss: 0.4518 - val_accuracy: 0.8293\n",
            "Epoch 16/30\n",
            "66/66 [==============================] - 0s 3ms/step - loss: 0.3761 - accuracy: 0.8506 - val_loss: 0.4569 - val_accuracy: 0.8293\n",
            "Epoch 17/30\n",
            "66/66 [==============================] - 0s 4ms/step - loss: 0.3836 - accuracy: 0.8476 - val_loss: 0.4682 - val_accuracy: 0.8171\n",
            "Epoch 18/30\n",
            "66/66 [==============================] - 0s 3ms/step - loss: 0.3716 - accuracy: 0.8445 - val_loss: 0.4779 - val_accuracy: 0.8049\n",
            "Epoch 19/30\n",
            "66/66 [==============================] - 0s 3ms/step - loss: 0.3711 - accuracy: 0.8399 - val_loss: 0.4821 - val_accuracy: 0.8171\n",
            "Epoch 20/30\n",
            "66/66 [==============================] - 0s 4ms/step - loss: 0.3538 - accuracy: 0.8506 - val_loss: 0.5040 - val_accuracy: 0.8049\n",
            "Epoch 21/30\n",
            "66/66 [==============================] - 0s 3ms/step - loss: 0.3470 - accuracy: 0.8598 - val_loss: 0.5110 - val_accuracy: 0.8232\n",
            "Epoch 22/30\n",
            "66/66 [==============================] - 0s 3ms/step - loss: 0.3626 - accuracy: 0.8506 - val_loss: 0.5129 - val_accuracy: 0.8110\n",
            "Epoch 23/30\n",
            "66/66 [==============================] - 0s 3ms/step - loss: 0.3621 - accuracy: 0.8399 - val_loss: 0.4865 - val_accuracy: 0.8110\n",
            "Epoch 24/30\n",
            "66/66 [==============================] - 0s 4ms/step - loss: 0.3534 - accuracy: 0.8613 - val_loss: 0.4947 - val_accuracy: 0.8354\n",
            "Epoch 25/30\n",
            "66/66 [==============================] - 0s 3ms/step - loss: 0.3694 - accuracy: 0.8628 - val_loss: 0.5132 - val_accuracy: 0.8110\n",
            "Epoch 26/30\n",
            "66/66 [==============================] - 0s 4ms/step - loss: 0.3607 - accuracy: 0.8537 - val_loss: 0.4933 - val_accuracy: 0.8293\n",
            "Epoch 27/30\n",
            "66/66 [==============================] - 0s 3ms/step - loss: 0.3580 - accuracy: 0.8628 - val_loss: 0.4960 - val_accuracy: 0.8232\n",
            "Epoch 28/30\n",
            "66/66 [==============================] - 0s 3ms/step - loss: 0.3649 - accuracy: 0.8567 - val_loss: 0.4942 - val_accuracy: 0.8171\n",
            "Epoch 29/30\n",
            "66/66 [==============================] - 0s 4ms/step - loss: 0.3533 - accuracy: 0.8552 - val_loss: 0.5025 - val_accuracy: 0.8232\n",
            "Epoch 30/30\n",
            "66/66 [==============================] - 0s 4ms/step - loss: 0.3591 - accuracy: 0.8598 - val_loss: 0.4934 - val_accuracy: 0.8171\n"
          ]
        }
      ]
    },
    {
      "cell_type": "code",
      "source": [
        "plt.plot(history.history['accuracy'], label= 'Accuracy')\n",
        "plt.plot(history.history['val_accuracy'], label= 'Val Accuracy')\n",
        "\n",
        "plt.title('Model accuracy')\n",
        "plt.ylabel('Accuracy')\n",
        "plt.xlabel('epoch')\n",
        "plt.legend()\n",
        "plt.show()"
      ],
      "metadata": {
        "colab": {
          "base_uri": "https://localhost:8080/",
          "height": 295
        },
        "id": "y9yWlNoACHTe",
        "outputId": "905d473c-4258-4a3a-a392-d0805f78796b"
      },
      "execution_count": 29,
      "outputs": [
        {
          "output_type": "display_data",
          "data": {
            "text/plain": [
              "<Figure size 432x288 with 1 Axes>"
            ],
            "image/png": "[encoded data removed]"
          },
          "metadata": {
            "needs_background": "light"
          }
        }
      ]
    },
    {
      "cell_type": "code",
      "source": [
        "model.evaluate(x_test, y_test)"
      ],
      "metadata": {
        "colab": {
          "base_uri": "https://localhost:8080/"
        },
        "id": "Ir2cSZZfQTb6",
        "outputId": "e18443d9-70eb-4cad-d48f-d218efc46aad"
      },
      "execution_count": 30,
      "outputs": [
        {
          "output_type": "stream",
          "name": "stdout",
          "text": [
            "6/6 [==============================] - 0s 3ms/step - loss: 0.4934 - accuracy: 0.8171\n"
          ]
        },
        {
          "output_type": "execute_result",
          "data": {
            "text/plain": [
              "[0.4934290945529938, 0.8170731663703918]"
            ]
          },
          "metadata": {},
          "execution_count": 30
        }
      ]
    },
    {
      "cell_type": "code",
      "source": [
        "# summarize history for loss\n",
        "plt.plot(history.history['loss'])\n",
        "plt.plot(history.history['val_loss'])\n",
        "plt.title('model loss')\n",
        "plt.ylabel('loss')\n",
        "plt.xlabel('epoch')\n",
        "plt.legend(['train', 'test'], loc='upper left')\n",
        "plt.show()\n",
        "\n",
        "# # summarize history for accuracy\n",
        "plt.plot(history.history['accuracy'])\n",
        "plt.plot(history.history['val_accuracy'])\n",
        "plt.title('model accuracy')\n",
        "plt.ylabel('accuracy')\n",
        "plt.xlabel('epoch')\n",
        "plt.legend(['train', 'test'], loc='upper right')\n",
        "plt.show()"
      ],
      "metadata": {
        "colab": {
          "base_uri": "https://localhost:8080/",
          "height": 573
        },
        "id": "soRltJsXQa19",
        "outputId": "9c82f3b1-c70e-40b2-d2ec-cebcbf2bbaef"
      },
      "execution_count": 31,
      "outputs": [
        {
          "output_type": "display_data",
          "data": {
            "text/plain": [
              "<Figure size 432x288 with 1 Axes>"
            ],
            "image/png": "[encoded data removed]"
          },
          "metadata": {
            "needs_background": "light"
          }
        },
        {
          "output_type": "display_data",
          "data": {
            "text/plain": [
              "<Figure size 432x288 with 1 Axes>"
            ],
            "image/png": "[encoded data removed]"
          },
          "metadata": {
            "needs_background": "light"
          }
        }
      ]
    },
    {
      "cell_type": "code",
      "source": [
        "model.save('model.h5')"
      ],
      "metadata": {
        "id": "2wA9PIz3Qekz"
      },
      "execution_count": 32,
      "outputs": []
    },
    {
      "cell_type": "code",
      "source": [
        "#Checking classification models"
      ],
      "metadata": {
        "id": "5rHHlcsdUa3q"
      },
      "execution_count": 33,
      "outputs": []
    },
    {
      "cell_type": "code",
      "source": [
        "reg = MLPClassifier(max_iter=1000, hidden_layer_sizes=(5,5), random_state=1)\n",
        "reg.fit(X_train, y_train)\n",
        "y_pred = reg.predict(x_test)\n",
        "accuracy_score(y_pred,y_test)"
      ],
      "metadata": {
        "colab": {
          "base_uri": "https://localhost:8080/"
        },
        "id": "uPu6WfGKOpWG",
        "outputId": "e363e221-38d6-4e80-9d92-9fd8239f8ecd"
      },
      "execution_count": 34,
      "outputs": [
        {
          "output_type": "execute_result",
          "data": {
            "text/plain": [
              "0.823170731707317"
            ]
          },
          "metadata": {},
          "execution_count": 34
        }
      ]
    },
    {
      "cell_type": "code",
      "source": [
        "clf_dtc = DecisionTreeClassifier(random_state= 42)\n",
        "clf_dtc.fit(X_train, y_train)\n",
        "y_pred = clf_dtc.predict(x_test)\n",
        "accuracy_score(y_pred, y_test)"
      ],
      "metadata": {
        "colab": {
          "base_uri": "https://localhost:8080/"
        },
        "id": "4WYB6klhQD0w",
        "outputId": "75206db7-211e-4387-f30d-56f8b8ef8d45"
      },
      "execution_count": 35,
      "outputs": [
        {
          "output_type": "execute_result",
          "data": {
            "text/plain": [
              "0.7865853658536586"
            ]
          },
          "metadata": {},
          "execution_count": 35
        }
      ]
    },
    {
      "cell_type": "code",
      "source": [
        "clf_svc = SVC(C = 1.0, kernel = 'linear')\n",
        "clf_svc.fit(X_train, y_train)\n",
        "y_pred = clf_svc.predict(x_test)\n",
        "accuracy_score(y_pred, y_test)"
      ],
      "metadata": {
        "colab": {
          "base_uri": "https://localhost:8080/"
        },
        "id": "mWi_eX2ZR94O",
        "outputId": "4476b763-ac45-4c8d-effa-0f23ceae3f55"
      },
      "execution_count": 36,
      "outputs": [
        {
          "output_type": "execute_result",
          "data": {
            "text/plain": [
              "0.7987804878048781"
            ]
          },
          "metadata": {},
          "execution_count": 36
        }
      ]
    },
    {
      "cell_type": "code",
      "source": [
        "clf_lr = LogisticRegression()\n",
        "clf_lr.fit(X_train, y_train)\n",
        "y_pred = clf_lr.predict(x_test)\n",
        "accuracy_score(y_pred, y_test)"
      ],
      "metadata": {
        "colab": {
          "base_uri": "https://localhost:8080/"
        },
        "id": "yb3QaSj2SF7S",
        "outputId": "399dc216-be1f-4633-89a5-198e272768ae"
      },
      "execution_count": 37,
      "outputs": [
        {
          "output_type": "execute_result",
          "data": {
            "text/plain": [
              "0.8170731707317073"
            ]
          },
          "metadata": {},
          "execution_count": 37
        }
      ]
    },
    {
      "cell_type": "code",
      "source": [
        "clf_knn = neighbors.KNeighborsClassifier(n_neighbors=10)\n",
        "clf_knn.fit(X_train, y_train)\n",
        "y_pred = clf_knn.predict(x_test)\n",
        "accuracy_score(y_pred, y_test)"
      ],
      "metadata": {
        "colab": {
          "base_uri": "https://localhost:8080/"
        },
        "id": "TVTlsRrnSSpz",
        "outputId": "fc790f75-9056-4196-a97f-3336ee35a802"
      },
      "execution_count": 38,
      "outputs": [
        {
          "output_type": "execute_result",
          "data": {
            "text/plain": [
              "0.7865853658536586"
            ]
          },
          "metadata": {},
          "execution_count": 38
        }
      ]
    },
    {
      "cell_type": "code",
      "source": [
        "clf_rfc = RandomForestClassifier(n_estimators=2)\n",
        "clf_rfc.fit(X_train, y_train)\n",
        "y_pred = clf_rfc.predict(x_test)\n",
        "accuracy_score(y_pred, y_test)"
      ],
      "metadata": {
        "colab": {
          "base_uri": "https://localhost:8080/"
        },
        "id": "dN9WFlheSrzM",
        "outputId": "46af0e16-b335-4408-dfd5-ce37b3769189"
      },
      "execution_count": 39,
      "outputs": [
        {
          "output_type": "execute_result",
          "data": {
            "text/plain": [
              "0.7621951219512195"
            ]
          },
          "metadata": {},
          "execution_count": 39
        }
      ]
    },
    {
      "cell_type": "code",
      "source": [
        "#The best results were obtained by Multi-layer Perceptron classifier"
      ],
      "metadata": {
        "id": "caiC60YqUvxe"
      },
      "execution_count": 41,
      "outputs": []
    },
    {
      "cell_type": "code",
      "source": [
        "#Confusion matrix for MLP Classifier\n",
        "sns.heatmap(confusion_matrix(reg.predict(x_test), y_test),annot=True)\n",
        "f1_score(reg.predict(x_test), y_test)"
      ],
      "metadata": {
        "colab": {
          "base_uri": "https://localhost:8080/",
          "height": 283
        },
        "id": "ccxWhzNwS1yn",
        "outputId": "4cef4515-616f-4243-94fc-5b9cc03333df"
      },
      "execution_count": 42,
      "outputs": [
        {
          "output_type": "execute_result",
          "data": {
            "text/plain": [
              "0.8304093567251463"
            ]
          },
          "metadata": {},
          "execution_count": 42
        },
        {
          "output_type": "display_data",
          "data": {
            "text/plain": [
              "<Figure size 432x288 with 2 Axes>"
            ],
            "image/png": "[encoded data removed]"
          },
          "metadata": {
            "needs_background": "light"
          }
        }
      ]
    }
  ]
}